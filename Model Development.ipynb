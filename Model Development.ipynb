{
 "cells": [
  {
   "cell_type": "code",
   "execution_count": 1,
   "id": "7f6443cf-690c-4868-a839-ec71986c7490",
   "metadata": {},
   "outputs": [],
   "source": [
    "import pandas as pd"
   ]
  },
  {
   "cell_type": "code",
   "execution_count": 2,
   "id": "b79cebc2-8fd5-4ad1-b3e1-060a97fab4bc",
   "metadata": {},
   "outputs": [],
   "source": [
    "wine = pd.read_csv('winequalityN.csv')"
   ]
  },
  {
   "cell_type": "code",
   "execution_count": 3,
   "id": "f6d07bed-c5db-4027-b39c-58487c857b3c",
   "metadata": {},
   "outputs": [
    {
     "data": {
      "text/html": [
       "<div>\n",
       "<style scoped>\n",
       "    .dataframe tbody tr th:only-of-type {\n",
       "        vertical-align: middle;\n",
       "    }\n",
       "\n",
       "    .dataframe tbody tr th {\n",
       "        vertical-align: top;\n",
       "    }\n",
       "\n",
       "    .dataframe thead th {\n",
       "        text-align: right;\n",
       "    }\n",
       "</style>\n",
       "<table border=\"1\" class=\"dataframe\">\n",
       "  <thead>\n",
       "    <tr style=\"text-align: right;\">\n",
       "      <th></th>\n",
       "      <th>type</th>\n",
       "      <th>fixed acidity</th>\n",
       "      <th>volatile acidity</th>\n",
       "      <th>citric acid</th>\n",
       "      <th>residual sugar</th>\n",
       "      <th>chlorides</th>\n",
       "      <th>free sulfur dioxide</th>\n",
       "      <th>total sulfur dioxide</th>\n",
       "      <th>density</th>\n",
       "      <th>pH</th>\n",
       "      <th>sulphates</th>\n",
       "      <th>alcohol</th>\n",
       "      <th>quality</th>\n",
       "    </tr>\n",
       "  </thead>\n",
       "  <tbody>\n",
       "    <tr>\n",
       "      <th>0</th>\n",
       "      <td>white</td>\n",
       "      <td>7.0</td>\n",
       "      <td>0.270</td>\n",
       "      <td>0.36</td>\n",
       "      <td>20.7</td>\n",
       "      <td>0.045</td>\n",
       "      <td>45.0</td>\n",
       "      <td>170.0</td>\n",
       "      <td>1.00100</td>\n",
       "      <td>3.00</td>\n",
       "      <td>0.45</td>\n",
       "      <td>8.8</td>\n",
       "      <td>6</td>\n",
       "    </tr>\n",
       "    <tr>\n",
       "      <th>1</th>\n",
       "      <td>white</td>\n",
       "      <td>6.3</td>\n",
       "      <td>0.300</td>\n",
       "      <td>0.34</td>\n",
       "      <td>1.6</td>\n",
       "      <td>0.049</td>\n",
       "      <td>14.0</td>\n",
       "      <td>132.0</td>\n",
       "      <td>0.99400</td>\n",
       "      <td>3.30</td>\n",
       "      <td>0.49</td>\n",
       "      <td>9.5</td>\n",
       "      <td>6</td>\n",
       "    </tr>\n",
       "    <tr>\n",
       "      <th>2</th>\n",
       "      <td>white</td>\n",
       "      <td>8.1</td>\n",
       "      <td>0.280</td>\n",
       "      <td>0.40</td>\n",
       "      <td>6.9</td>\n",
       "      <td>0.050</td>\n",
       "      <td>30.0</td>\n",
       "      <td>97.0</td>\n",
       "      <td>0.99510</td>\n",
       "      <td>3.26</td>\n",
       "      <td>0.44</td>\n",
       "      <td>10.1</td>\n",
       "      <td>6</td>\n",
       "    </tr>\n",
       "    <tr>\n",
       "      <th>3</th>\n",
       "      <td>white</td>\n",
       "      <td>7.2</td>\n",
       "      <td>0.230</td>\n",
       "      <td>0.32</td>\n",
       "      <td>8.5</td>\n",
       "      <td>0.058</td>\n",
       "      <td>47.0</td>\n",
       "      <td>186.0</td>\n",
       "      <td>0.99560</td>\n",
       "      <td>3.19</td>\n",
       "      <td>0.40</td>\n",
       "      <td>9.9</td>\n",
       "      <td>6</td>\n",
       "    </tr>\n",
       "    <tr>\n",
       "      <th>4</th>\n",
       "      <td>white</td>\n",
       "      <td>7.2</td>\n",
       "      <td>0.230</td>\n",
       "      <td>0.32</td>\n",
       "      <td>8.5</td>\n",
       "      <td>0.058</td>\n",
       "      <td>47.0</td>\n",
       "      <td>186.0</td>\n",
       "      <td>0.99560</td>\n",
       "      <td>3.19</td>\n",
       "      <td>0.40</td>\n",
       "      <td>9.9</td>\n",
       "      <td>6</td>\n",
       "    </tr>\n",
       "    <tr>\n",
       "      <th>...</th>\n",
       "      <td>...</td>\n",
       "      <td>...</td>\n",
       "      <td>...</td>\n",
       "      <td>...</td>\n",
       "      <td>...</td>\n",
       "      <td>...</td>\n",
       "      <td>...</td>\n",
       "      <td>...</td>\n",
       "      <td>...</td>\n",
       "      <td>...</td>\n",
       "      <td>...</td>\n",
       "      <td>...</td>\n",
       "      <td>...</td>\n",
       "    </tr>\n",
       "    <tr>\n",
       "      <th>6492</th>\n",
       "      <td>red</td>\n",
       "      <td>6.2</td>\n",
       "      <td>0.600</td>\n",
       "      <td>0.08</td>\n",
       "      <td>2.0</td>\n",
       "      <td>0.090</td>\n",
       "      <td>32.0</td>\n",
       "      <td>44.0</td>\n",
       "      <td>0.99490</td>\n",
       "      <td>3.45</td>\n",
       "      <td>0.58</td>\n",
       "      <td>10.5</td>\n",
       "      <td>5</td>\n",
       "    </tr>\n",
       "    <tr>\n",
       "      <th>6493</th>\n",
       "      <td>red</td>\n",
       "      <td>5.9</td>\n",
       "      <td>0.550</td>\n",
       "      <td>0.10</td>\n",
       "      <td>2.2</td>\n",
       "      <td>0.062</td>\n",
       "      <td>39.0</td>\n",
       "      <td>51.0</td>\n",
       "      <td>0.99512</td>\n",
       "      <td>3.52</td>\n",
       "      <td>NaN</td>\n",
       "      <td>11.2</td>\n",
       "      <td>6</td>\n",
       "    </tr>\n",
       "    <tr>\n",
       "      <th>6494</th>\n",
       "      <td>red</td>\n",
       "      <td>6.3</td>\n",
       "      <td>0.510</td>\n",
       "      <td>0.13</td>\n",
       "      <td>2.3</td>\n",
       "      <td>0.076</td>\n",
       "      <td>29.0</td>\n",
       "      <td>40.0</td>\n",
       "      <td>0.99574</td>\n",
       "      <td>3.42</td>\n",
       "      <td>0.75</td>\n",
       "      <td>11.0</td>\n",
       "      <td>6</td>\n",
       "    </tr>\n",
       "    <tr>\n",
       "      <th>6495</th>\n",
       "      <td>red</td>\n",
       "      <td>5.9</td>\n",
       "      <td>0.645</td>\n",
       "      <td>0.12</td>\n",
       "      <td>2.0</td>\n",
       "      <td>0.075</td>\n",
       "      <td>32.0</td>\n",
       "      <td>44.0</td>\n",
       "      <td>0.99547</td>\n",
       "      <td>3.57</td>\n",
       "      <td>0.71</td>\n",
       "      <td>10.2</td>\n",
       "      <td>5</td>\n",
       "    </tr>\n",
       "    <tr>\n",
       "      <th>6496</th>\n",
       "      <td>red</td>\n",
       "      <td>6.0</td>\n",
       "      <td>0.310</td>\n",
       "      <td>0.47</td>\n",
       "      <td>3.6</td>\n",
       "      <td>0.067</td>\n",
       "      <td>18.0</td>\n",
       "      <td>42.0</td>\n",
       "      <td>0.99549</td>\n",
       "      <td>3.39</td>\n",
       "      <td>0.66</td>\n",
       "      <td>11.0</td>\n",
       "      <td>6</td>\n",
       "    </tr>\n",
       "  </tbody>\n",
       "</table>\n",
       "<p>6497 rows × 13 columns</p>\n",
       "</div>"
      ],
      "text/plain": [
       "       type  fixed acidity  volatile acidity  citric acid  residual sugar  \\\n",
       "0     white            7.0             0.270         0.36            20.7   \n",
       "1     white            6.3             0.300         0.34             1.6   \n",
       "2     white            8.1             0.280         0.40             6.9   \n",
       "3     white            7.2             0.230         0.32             8.5   \n",
       "4     white            7.2             0.230         0.32             8.5   \n",
       "...     ...            ...               ...          ...             ...   \n",
       "6492    red            6.2             0.600         0.08             2.0   \n",
       "6493    red            5.9             0.550         0.10             2.2   \n",
       "6494    red            6.3             0.510         0.13             2.3   \n",
       "6495    red            5.9             0.645         0.12             2.0   \n",
       "6496    red            6.0             0.310         0.47             3.6   \n",
       "\n",
       "      chlorides  free sulfur dioxide  total sulfur dioxide  density    pH  \\\n",
       "0         0.045                 45.0                 170.0  1.00100  3.00   \n",
       "1         0.049                 14.0                 132.0  0.99400  3.30   \n",
       "2         0.050                 30.0                  97.0  0.99510  3.26   \n",
       "3         0.058                 47.0                 186.0  0.99560  3.19   \n",
       "4         0.058                 47.0                 186.0  0.99560  3.19   \n",
       "...         ...                  ...                   ...      ...   ...   \n",
       "6492      0.090                 32.0                  44.0  0.99490  3.45   \n",
       "6493      0.062                 39.0                  51.0  0.99512  3.52   \n",
       "6494      0.076                 29.0                  40.0  0.99574  3.42   \n",
       "6495      0.075                 32.0                  44.0  0.99547  3.57   \n",
       "6496      0.067                 18.0                  42.0  0.99549  3.39   \n",
       "\n",
       "      sulphates  alcohol  quality  \n",
       "0          0.45      8.8        6  \n",
       "1          0.49      9.5        6  \n",
       "2          0.44     10.1        6  \n",
       "3          0.40      9.9        6  \n",
       "4          0.40      9.9        6  \n",
       "...         ...      ...      ...  \n",
       "6492       0.58     10.5        5  \n",
       "6493        NaN     11.2        6  \n",
       "6494       0.75     11.0        6  \n",
       "6495       0.71     10.2        5  \n",
       "6496       0.66     11.0        6  \n",
       "\n",
       "[6497 rows x 13 columns]"
      ]
     },
     "execution_count": 3,
     "metadata": {},
     "output_type": "execute_result"
    }
   ],
   "source": [
    "wine"
   ]
  },
  {
   "cell_type": "markdown",
   "id": "e249d68f-1626-4c94-a36b-2ff8b1801b5e",
   "metadata": {},
   "source": [
    "Segun el dataset de wine, realice las siguientes actividades:\n",
    "- Limpie las variables numericas. (evalue primero si vale la pena estretificar por type), en caso de existir valores atipicos remplece por la media.\n",
    "- Aplique PCA utilizando maximo 5 columnas (evalue si el PCA vale la pena hacer uno para white y otro para red)\n",
    "    - No se debe de usar quality para este ejercicio\n",
    "- Una ves tenga el PCA, aplique un algoritmo de k-means para crear tres perfiles del vino. (explique que significa cada perfil)\n",
    "- Agregue la nueva variable al dateset y elimine las columnas que hayan formado parte de analisis del PCA, tanto para white como para red, en caso que hayan sido entrenamientos distintos.\n",
    "- Crea la varible de respuesta de la siguiente manera:\n",
    "    - if quality >= 5 ? 1 else 0\n",
    "- Elimine la variable quality del dataset\n",
    "- Aplique los siguientes entrenamientos de MLS (evalue primero si vale la pena estretificar por type):\n",
    "    - Regresion Logistica\n",
    "    - NN\n",
    "    - Aroboles de desiciones\n",
    "    - Random Forest\n",
    "- Explique cual de los entrenamientos fue el mejor?"
   ]
  },
  {
   "cell_type": "markdown",
   "id": "f210beb0-8792-469e-b6f2-4ce21a74e0ed",
   "metadata": {},
   "source": [
    "Ejercicio #1\n",
    "---\n",
    "Limpieza de variables numericas "
   ]
  },
  {
   "cell_type": "code",
   "execution_count": 5,
   "id": "b23088d6-f41d-423c-9788-dea0b044fd77",
   "metadata": {},
   "outputs": [
    {
     "data": {
      "text/plain": [
       "Index(['type', 'fixed acidity', 'volatile acidity', 'citric acid',\n",
       "       'residual sugar', 'chlorides', 'free sulfur dioxide',\n",
       "       'total sulfur dioxide', 'density', 'pH', 'sulphates', 'alcohol',\n",
       "       'quality'],\n",
       "      dtype='object')"
      ]
     },
     "execution_count": 5,
     "metadata": {},
     "output_type": "execute_result"
    }
   ],
   "source": [
    "wine.columns"
   ]
  },
  {
   "cell_type": "code",
   "execution_count": 9,
   "id": "e4a0484f-0c77-4665-b1dc-0dd4f65688a1",
   "metadata": {},
   "outputs": [],
   "source": [
    "cols = ['fixed acidity', 'volatile acidity', 'citric acid',\n",
    "       'residual sugar', 'chlorides', 'free sulfur dioxide',\n",
    "       'total sulfur dioxide', 'density', 'pH', 'sulphates', 'alcohol',\n",
    "       'quality']"
   ]
  },
  {
   "cell_type": "code",
   "execution_count": 10,
   "id": "330512f6-5b36-4cca-8f8f-a9b8ebcb8a43",
   "metadata": {},
   "outputs": [
    {
     "data": {
      "text/plain": [
       "type \n",
       "white    4898\n",
       "red      1599\n",
       "dtype: int64"
      ]
     },
     "execution_count": 10,
     "metadata": {},
     "output_type": "execute_result"
    }
   ],
   "source": [
    "# Verificacion de la columna type\n",
    "wine.loc[:,[\"type\"]].value_counts()"
   ]
  },
  {
   "cell_type": "code",
   "execution_count": 13,
   "id": "b1ee8bfa-6f0f-4dbf-91ff-9501e2d3eca6",
   "metadata": {},
   "outputs": [],
   "source": [
    "cols_big = ['fixed acidity', 'residual sugar', 'free sulfur dioxide',\n",
    "           'total sulfur dioxide', 'pH', 'alcohol', 'quality']\n",
    "cols_small = ['sulphates', 'chlorides', 'citric acid', 'volatile acidity']\n"
   ]
  },
  {
   "cell_type": "markdown",
   "id": "0e9dd264-d825-465f-aa9e-b76666c4cdc5",
   "metadata": {},
   "source": [
    "Se van a separar los valores en dos tipos grandes y pequeños.\n",
    "- Los grandes son valores mayores a 1 \n",
    "- Los menores son valores menores a 1\n",
    "* De esta manera evitamos la atipicidad en valores que quiza no lo tengan si se hace el análisis con todas las variables "
   ]
  },
  {
   "cell_type": "code",
   "execution_count": 23,
   "id": "1e586794-34f8-4931-801e-1f57bdc5d67c",
   "metadata": {},
   "outputs": [],
   "source": [
    "import numpy as np\n",
    "import matplotlib.pyplot as plt \n",
    "import seaborn as sns"
   ]
  },
  {
   "cell_type": "code",
   "execution_count": 14,
   "id": "24334ae8-cfa3-42a8-9b01-eaa332f54f26",
   "metadata": {},
   "outputs": [],
   "source": [
    "# Verificación de las columnas validas de valores grandes, se usará un umbral de 0.8\n",
    "cols_valids_b = []\n",
    "cols_many_level_b = []\n",
    "cols_one_level_b  = []\n",
    "\n",
    "size = wine.shape[0]\n",
    "umbral = 0.8\n",
    "\n",
    "for c in cols_big:\n",
    "    level = wine.loc[:,c].drop_duplicates().shape[0]\n",
    "    if (level/size) >= umbral:\n",
    "        cols_many_levels_b.append(c)\n",
    "    elif level == 1:\n",
    "        cols_one_level_b.append(c)\n",
    "    else:\n",
    "        cols_valids_b.append(c)"
   ]
  },
  {
   "cell_type": "code",
   "execution_count": 15,
   "id": "49d788aa-64c3-4486-bd29-97b7255023f4",
   "metadata": {},
   "outputs": [
    {
     "data": {
      "text/plain": [
       "['fixed acidity',\n",
       " 'residual sugar',\n",
       " 'free sulfur dioxide',\n",
       " 'total sulfur dioxide',\n",
       " 'pH',\n",
       " 'alcohol',\n",
       " 'quality']"
      ]
     },
     "execution_count": 15,
     "metadata": {},
     "output_type": "execute_result"
    }
   ],
   "source": [
    "#Columnas Validas\n",
    "cols_valids_b"
   ]
  },
  {
   "cell_type": "code",
   "execution_count": 25,
   "id": "b814be77-c0bf-49fa-939d-b444e0a17073",
   "metadata": {},
   "outputs": [],
   "source": [
    "cols_valids_sm = []\n",
    "cols_many_level_sm = []\n",
    "cols_one_level_sm  = []\n",
    "\n",
    "size = wine.shape[0]\n",
    "umbral = 0.8\n",
    "\n",
    "for c in cols_small:\n",
    "    level = wine.loc[:,c].drop_duplicates().shape[0]\n",
    "    if (level/size) >= umbral:\n",
    "        cols_many_levels_sm.append(c)\n",
    "    elif level == 1:\n",
    "        cols_one_level_sm.append(c)\n",
    "    else:\n",
    "        cols_valids_sm.append(c)"
   ]
  },
  {
   "cell_type": "code",
   "execution_count": 26,
   "id": "4dfc9584-9e8c-48e6-9f6d-02ae82d480d7",
   "metadata": {},
   "outputs": [
    {
     "data": {
      "text/plain": [
       "['sulphates', 'chlorides', 'citric acid', 'volatile acidity']"
      ]
     },
     "execution_count": 26,
     "metadata": {},
     "output_type": "execute_result"
    }
   ],
   "source": [
    "cols_valids_sm"
   ]
  },
  {
   "cell_type": "markdown",
   "id": "b943545b-0be6-4e29-b151-9c2803ab5f9a",
   "metadata": {},
   "source": [
    "Al haber hecho un análisis de los boxplot de cada uno de las casillas numéricas se encontró que las que tienen valores atípicos son: \n",
    "- free sulfur dioxide\n",
    "- total sulfur dioxide\n",
    "- alcohol (poco)\n",
    "- quality"
   ]
  },
  {
   "cell_type": "code",
   "execution_count": 40,
   "id": "be1ada25-c21d-439b-89e4-0e2530136a34",
   "metadata": {},
   "outputs": [
    {
     "data": {
      "text/plain": [
       "{'whiskers': [<matplotlib.lines.Line2D at 0x245d3e2f070>,\n",
       "  <matplotlib.lines.Line2D at 0x245d3e2f340>],\n",
       " 'caps': [<matplotlib.lines.Line2D at 0x245d3e2f610>,\n",
       "  <matplotlib.lines.Line2D at 0x245d3e2f8e0>],\n",
       " 'boxes': [<matplotlib.lines.Line2D at 0x245d3e1fd60>],\n",
       " 'medians': [<matplotlib.lines.Line2D at 0x245d3e2fbb0>],\n",
       " 'fliers': [<matplotlib.lines.Line2D at 0x245d3e2fe80>],\n",
       " 'means': []}"
      ]
     },
     "execution_count": 40,
     "metadata": {},
     "output_type": "execute_result"
    },
    {
     "data": {
      "image/png": "[encoded data removed]",
      "text/plain": [
       "<Figure size 432x288 with 1 Axes>"
      ]
     },
     "metadata": {
      "needs_background": "light"
     },
     "output_type": "display_data"
    }
   ],
   "source": [
    "plt.boxplot(wine[\"free sulfur dioxide\"])"
   ]
  },
  {
   "cell_type": "code",
   "execution_count": 41,
   "id": "30708d9d-b5b4-4877-ae6f-04667cc6d258",
   "metadata": {},
   "outputs": [
    {
     "data": {
      "text/plain": [
       "{'whiskers': [<matplotlib.lines.Line2D at 0x245d3e92520>,\n",
       "  <matplotlib.lines.Line2D at 0x245d3e927f0>],\n",
       " 'caps': [<matplotlib.lines.Line2D at 0x245d3e92ac0>,\n",
       "  <matplotlib.lines.Line2D at 0x245d3e92d90>],\n",
       " 'boxes': [<matplotlib.lines.Line2D at 0x245d3e92250>],\n",
       " 'medians': [<matplotlib.lines.Line2D at 0x245d3e9f0a0>],\n",
       " 'fliers': [<matplotlib.lines.Line2D at 0x245d3e9f370>],\n",
       " 'means': []}"
      ]
     },
     "execution_count": 41,
     "metadata": {},
     "output_type": "execute_result"
    },
    {
     "data": {
      "image/png": "[encoded data removed]",
      "text/plain": [
       "<Figure size 432x288 with 1 Axes>"
      ]
     },
     "metadata": {
      "needs_background": "light"
     },
     "output_type": "display_data"
    }
   ],
   "source": [
    "plt.boxplot(wine[\"total sulfur dioxide\"])"
   ]
  },
  {
   "cell_type": "code",
   "execution_count": 42,
   "id": "8faac865-cfe6-4a1c-97f1-2e9be0748c54",
   "metadata": {},
   "outputs": [
    {
     "data": {
      "text/plain": [
       "{'whiskers': [<matplotlib.lines.Line2D at 0x245d3ef5040>,\n",
       "  <matplotlib.lines.Line2D at 0x245d3ef5310>],\n",
       " 'caps': [<matplotlib.lines.Line2D at 0x245d3ef55e0>,\n",
       "  <matplotlib.lines.Line2D at 0x245d3ef58b0>],\n",
       " 'boxes': [<matplotlib.lines.Line2D at 0x245d3ee6d30>],\n",
       " 'medians': [<matplotlib.lines.Line2D at 0x245d3ef5b80>],\n",
       " 'fliers': [<matplotlib.lines.Line2D at 0x245d3ef5e50>],\n",
       " 'means': []}"
      ]
     },
     "execution_count": 42,
     "metadata": {},
     "output_type": "execute_result"
    },
    {
     "data": {
      "image/png": "[encoded data removed]",
      "text/plain": [
       "<Figure size 432x288 with 1 Axes>"
      ]
     },
     "metadata": {
      "needs_background": "light"
     },
     "output_type": "display_data"
    }
   ],
   "source": [
    "plt.boxplot(wine[\"alcohol\"])"
   ]
  },
  {
   "cell_type": "code",
   "execution_count": 43,
   "id": "dd364e35-1f81-4bdf-851a-29940d11975d",
   "metadata": {},
   "outputs": [
    {
     "data": {
      "text/plain": [
       "{'whiskers': [<matplotlib.lines.Line2D at 0x245d3f54a60>,\n",
       "  <matplotlib.lines.Line2D at 0x245d3f54d30>],\n",
       " 'caps': [<matplotlib.lines.Line2D at 0x245d3f63040>,\n",
       "  <matplotlib.lines.Line2D at 0x245d3f63310>],\n",
       " 'boxes': [<matplotlib.lines.Line2D at 0x245d3f54760>],\n",
       " 'medians': [<matplotlib.lines.Line2D at 0x245d3f635e0>],\n",
       " 'fliers': [<matplotlib.lines.Line2D at 0x245d3f638b0>],\n",
       " 'means': []}"
      ]
     },
     "execution_count": 43,
     "metadata": {},
     "output_type": "execute_result"
    },
    {
     "data": {
      "image/png": "[encoded data removed]",
      "text/plain": [
       "<Figure size 432x288 with 1 Axes>"
      ]
     },
     "metadata": {
      "needs_background": "light"
     },
     "output_type": "display_data"
    }
   ],
   "source": [
    "plt.boxplot(wine[\"quality\"])"
   ]
  },
  {
   "cell_type": "markdown",
   "id": "6746dc16-5ba0-4545-afe7-f9a620d639d2",
   "metadata": {},
   "source": [
    "La estratificación si conviene hacerla con la columna type, debido que es la variable categórica que tenemos, por lo tanto se va a evaluar junto la columna quality y fixed acidity"
   ]
  },
  {
   "cell_type": "code",
   "execution_count": 77,
   "id": "3d1523b7-30ff-4259-8c95-2b4f57578ac0",
   "metadata": {},
   "outputs": [
    {
     "data": {
      "text/plain": [
       "<AxesSubplot:xlabel='type', ylabel='fixed acidity'>"
      ]
     },
     "execution_count": 77,
     "metadata": {},
     "output_type": "execute_result"
    },
    {
     "data": {
      "image/png": "[encoded data removed]",
      "text/plain": [
       "<Figure size 432x288 with 1 Axes>"
      ]
     },
     "metadata": {
      "needs_background": "light"
     },
     "output_type": "display_data"
    }
   ],
   "source": [
    "sns.boxplot(data = wine.loc[ (wine['quality'] == 7), : ], x= 'type', y ='fixed acidity' )"
   ]
  },
  {
   "cell_type": "code",
   "execution_count": 78,
   "id": "2c6f3b5b-e8f2-4e6e-bd32-a69d2536fb51",
   "metadata": {},
   "outputs": [
    {
     "data": {
      "text/html": [
       "<div>\n",
       "<style scoped>\n",
       "    .dataframe tbody tr th:only-of-type {\n",
       "        vertical-align: middle;\n",
       "    }\n",
       "\n",
       "    .dataframe tbody tr th {\n",
       "        vertical-align: top;\n",
       "    }\n",
       "\n",
       "    .dataframe thead th {\n",
       "        text-align: right;\n",
       "    }\n",
       "</style>\n",
       "<table border=\"1\" class=\"dataframe\">\n",
       "  <thead>\n",
       "    <tr style=\"text-align: right;\">\n",
       "      <th></th>\n",
       "      <th>fixed acidity</th>\n",
       "    </tr>\n",
       "  </thead>\n",
       "  <tbody>\n",
       "    <tr>\n",
       "      <th>13</th>\n",
       "      <td>6.6</td>\n",
       "    </tr>\n",
       "    <tr>\n",
       "      <th>15</th>\n",
       "      <td>6.6</td>\n",
       "    </tr>\n",
       "    <tr>\n",
       "      <th>21</th>\n",
       "      <td>6.4</td>\n",
       "    </tr>\n",
       "    <tr>\n",
       "      <th>29</th>\n",
       "      <td>7.2</td>\n",
       "    </tr>\n",
       "    <tr>\n",
       "      <th>45</th>\n",
       "      <td>7.4</td>\n",
       "    </tr>\n",
       "    <tr>\n",
       "      <th>...</th>\n",
       "      <td>...</td>\n",
       "    </tr>\n",
       "    <tr>\n",
       "      <th>4870</th>\n",
       "      <td>6.1</td>\n",
       "    </tr>\n",
       "    <tr>\n",
       "      <th>4876</th>\n",
       "      <td>6.2</td>\n",
       "    </tr>\n",
       "    <tr>\n",
       "      <th>4886</th>\n",
       "      <td>6.2</td>\n",
       "    </tr>\n",
       "    <tr>\n",
       "      <th>4887</th>\n",
       "      <td>6.2</td>\n",
       "    </tr>\n",
       "    <tr>\n",
       "      <th>4896</th>\n",
       "      <td>5.5</td>\n",
       "    </tr>\n",
       "  </tbody>\n",
       "</table>\n",
       "<p>880 rows × 1 columns</p>\n",
       "</div>"
      ],
      "text/plain": [
       "      fixed acidity\n",
       "13              6.6\n",
       "15              6.6\n",
       "21              6.4\n",
       "29              7.2\n",
       "45              7.4\n",
       "...             ...\n",
       "4870            6.1\n",
       "4876            6.2\n",
       "4886            6.2\n",
       "4887            6.2\n",
       "4896            5.5\n",
       "\n",
       "[880 rows x 1 columns]"
      ]
     },
     "execution_count": 78,
     "metadata": {},
     "output_type": "execute_result"
    }
   ],
   "source": [
    "limit_b = wine.loc[(wine[\"type\"] == \"white\") & (wine[\"quality\"] == 7), [\"fixed acidity\"]]\n",
    "limit_b"
   ]
  },
  {
   "cell_type": "code",
   "execution_count": 79,
   "id": "093056cf-7677-4dc5-b5d1-2f0b5dc44fcc",
   "metadata": {},
   "outputs": [
    {
     "data": {
      "text/plain": [
       "{'whiskers': [<matplotlib.lines.Line2D at 0x245d6194040>,\n",
       "  <matplotlib.lines.Line2D at 0x245d6194310>],\n",
       " 'caps': [<matplotlib.lines.Line2D at 0x245d61945e0>,\n",
       "  <matplotlib.lines.Line2D at 0x245d61948b0>],\n",
       " 'boxes': [<matplotlib.lines.Line2D at 0x245d6185d00>],\n",
       " 'medians': [<matplotlib.lines.Line2D at 0x245d6194b80>],\n",
       " 'fliers': [<matplotlib.lines.Line2D at 0x245d6194e50>],\n",
       " 'means': []}"
      ]
     },
     "execution_count": 79,
     "metadata": {},
     "output_type": "execute_result"
    },
    {
     "data": {
      "image/png": "[encoded data removed]",
      "text/plain": [
       "<Figure size 432x288 with 1 Axes>"
      ]
     },
     "metadata": {
      "needs_background": "light"
     },
     "output_type": "display_data"
    }
   ],
   "source": [
    "plt.boxplot(limit_b)"
   ]
  },
  {
   "cell_type": "code",
   "execution_count": 80,
   "id": "f45964fd-9712-4456-a129-64769aa54a51",
   "metadata": {},
   "outputs": [
    {
     "data": {
      "text/plain": [
       "6.2"
      ]
     },
     "execution_count": 80,
     "metadata": {},
     "output_type": "execute_result"
    }
   ],
   "source": [
    "# Calculo del primer cuartile \n",
    "q1 = np.quantile(limit_b,0.25)\n",
    "q1"
   ]
  },
  {
   "cell_type": "code",
   "execution_count": 81,
   "id": "29a512a6-fe2d-438d-bd4d-f3d712c03b9d",
   "metadata": {},
   "outputs": [
    {
     "data": {
      "text/plain": [
       "7.2"
      ]
     },
     "execution_count": 81,
     "metadata": {},
     "output_type": "execute_result"
    }
   ],
   "source": [
    "# Calculo del tercer cuartile \n",
    "q3 = np.quantile(limit_b,0.75)\n",
    "q3"
   ]
  },
  {
   "cell_type": "code",
   "execution_count": 82,
   "id": "21f3aca3-3347-4b33-a18d-d3bcb311534d",
   "metadata": {},
   "outputs": [
    {
     "data": {
      "text/plain": [
       "6.7"
      ]
     },
     "execution_count": 82,
     "metadata": {},
     "output_type": "execute_result"
    }
   ],
   "source": [
    "# Calculo del segundo cuartile \n",
    "q2 = np.median(limit_b)\n",
    "q2"
   ]
  },
  {
   "cell_type": "code",
   "execution_count": 83,
   "id": "8e26da1e-8f0d-4297-8c64-20d79571ee90",
   "metadata": {},
   "outputs": [
    {
     "data": {
      "text/plain": [
       "1.0"
      ]
     },
     "execution_count": 83,
     "metadata": {},
     "output_type": "execute_result"
    }
   ],
   "source": [
    "#Calculo del iqr\n",
    "iqr = q3 - q1\n",
    "iqr"
   ]
  },
  {
   "cell_type": "code",
   "execution_count": 84,
   "id": "1fd4113a-38dc-4eae-ab73-87e6ed550bbf",
   "metadata": {},
   "outputs": [
    {
     "data": {
      "text/plain": [
       "8.7"
      ]
     },
     "execution_count": 84,
     "metadata": {},
     "output_type": "execute_result"
    }
   ],
   "source": [
    "# Veremos los valores atípicos superiores\n",
    "upper = q3 + (1.5*iqr)\n",
    "upper"
   ]
  },
  {
   "cell_type": "code",
   "execution_count": 85,
   "id": "f5d244e4-24e0-4ccd-9ec2-48f319dd982c",
   "metadata": {},
   "outputs": [
    {
     "data": {
      "text/plain": [
       "4.7"
      ]
     },
     "execution_count": 85,
     "metadata": {},
     "output_type": "execute_result"
    }
   ],
   "source": [
    "# Veremos los valores atípicos inferiores \n",
    "lower = q1 - (1.5*iqr)\n",
    "lower"
   ]
  },
  {
   "cell_type": "markdown",
   "id": "3328fe18-fc61-42fd-bff0-8596e11e1dee",
   "metadata": {},
   "source": [
    "Una vez encontrados los valores superiores e inferiores se empezará con la estratificación, con el quality = 7\n",
    "\n",
    "Estratificación\n",
    "---"
   ]
  },
  {
   "cell_type": "code",
   "execution_count": 88,
   "id": "5f1c72e6-eaac-4c1d-a550-2b9cbfd9af8b",
   "metadata": {},
   "outputs": [
    {
     "data": {
      "text/html": [
       "<div>\n",
       "<style scoped>\n",
       "    .dataframe tbody tr th:only-of-type {\n",
       "        vertical-align: middle;\n",
       "    }\n",
       "\n",
       "    .dataframe tbody tr th {\n",
       "        vertical-align: top;\n",
       "    }\n",
       "\n",
       "    .dataframe thead th {\n",
       "        text-align: right;\n",
       "    }\n",
       "</style>\n",
       "<table border=\"1\" class=\"dataframe\">\n",
       "  <thead>\n",
       "    <tr style=\"text-align: right;\">\n",
       "      <th></th>\n",
       "      <th>type</th>\n",
       "      <th>quality</th>\n",
       "      <th>fixed 1</th>\n",
       "    </tr>\n",
       "  </thead>\n",
       "  <tbody>\n",
       "    <tr>\n",
       "      <th>0</th>\n",
       "      <td>red</td>\n",
       "      <td>3</td>\n",
       "      <td>7.150</td>\n",
       "    </tr>\n",
       "    <tr>\n",
       "      <th>1</th>\n",
       "      <td>red</td>\n",
       "      <td>4</td>\n",
       "      <td>6.800</td>\n",
       "    </tr>\n",
       "    <tr>\n",
       "      <th>2</th>\n",
       "      <td>red</td>\n",
       "      <td>5</td>\n",
       "      <td>7.100</td>\n",
       "    </tr>\n",
       "    <tr>\n",
       "      <th>3</th>\n",
       "      <td>red</td>\n",
       "      <td>6</td>\n",
       "      <td>7.000</td>\n",
       "    </tr>\n",
       "    <tr>\n",
       "      <th>4</th>\n",
       "      <td>red</td>\n",
       "      <td>7</td>\n",
       "      <td>7.400</td>\n",
       "    </tr>\n",
       "    <tr>\n",
       "      <th>5</th>\n",
       "      <td>red</td>\n",
       "      <td>8</td>\n",
       "      <td>7.250</td>\n",
       "    </tr>\n",
       "    <tr>\n",
       "      <th>6</th>\n",
       "      <td>white</td>\n",
       "      <td>3</td>\n",
       "      <td>6.575</td>\n",
       "    </tr>\n",
       "    <tr>\n",
       "      <th>7</th>\n",
       "      <td>white</td>\n",
       "      <td>4</td>\n",
       "      <td>6.400</td>\n",
       "    </tr>\n",
       "    <tr>\n",
       "      <th>8</th>\n",
       "      <td>white</td>\n",
       "      <td>5</td>\n",
       "      <td>6.400</td>\n",
       "    </tr>\n",
       "    <tr>\n",
       "      <th>9</th>\n",
       "      <td>white</td>\n",
       "      <td>6</td>\n",
       "      <td>6.300</td>\n",
       "    </tr>\n",
       "    <tr>\n",
       "      <th>10</th>\n",
       "      <td>white</td>\n",
       "      <td>7</td>\n",
       "      <td>6.200</td>\n",
       "    </tr>\n",
       "    <tr>\n",
       "      <th>11</th>\n",
       "      <td>white</td>\n",
       "      <td>8</td>\n",
       "      <td>6.200</td>\n",
       "    </tr>\n",
       "    <tr>\n",
       "      <th>12</th>\n",
       "      <td>white</td>\n",
       "      <td>9</td>\n",
       "      <td>6.900</td>\n",
       "    </tr>\n",
       "  </tbody>\n",
       "</table>\n",
       "</div>"
      ],
      "text/plain": [
       "     type  quality  fixed 1\n",
       "0     red        3    7.150\n",
       "1     red        4    6.800\n",
       "2     red        5    7.100\n",
       "3     red        6    7.000\n",
       "4     red        7    7.400\n",
       "5     red        8    7.250\n",
       "6   white        3    6.575\n",
       "7   white        4    6.400\n",
       "8   white        5    6.400\n",
       "9   white        6    6.300\n",
       "10  white        7    6.200\n",
       "11  white        8    6.200\n",
       "12  white        9    6.900"
      ]
     },
     "execution_count": 88,
     "metadata": {},
     "output_type": "execute_result"
    }
   ],
   "source": [
    "dfq1 = wine.loc[:,[\"type\", \"quality\", \"fixed acidity\"]].groupby([\"type\", \"quality\"], as_index = False).quantile(0.25)\n",
    "dfq1.columns = [\"type\", \"quality\", \"fixed 1\"]\n",
    "dfq1"
   ]
  },
  {
   "cell_type": "code",
   "execution_count": 89,
   "id": "ed50d549-d2b5-4cea-9b5b-8f60f710c264",
   "metadata": {},
   "outputs": [
    {
     "data": {
      "text/html": [
       "<div>\n",
       "<style scoped>\n",
       "    .dataframe tbody tr th:only-of-type {\n",
       "        vertical-align: middle;\n",
       "    }\n",
       "\n",
       "    .dataframe tbody tr th {\n",
       "        vertical-align: top;\n",
       "    }\n",
       "\n",
       "    .dataframe thead th {\n",
       "        text-align: right;\n",
       "    }\n",
       "</style>\n",
       "<table border=\"1\" class=\"dataframe\">\n",
       "  <thead>\n",
       "    <tr style=\"text-align: right;\">\n",
       "      <th></th>\n",
       "      <th>type</th>\n",
       "      <th>quality</th>\n",
       "      <th>fixed 3</th>\n",
       "    </tr>\n",
       "  </thead>\n",
       "  <tbody>\n",
       "    <tr>\n",
       "      <th>0</th>\n",
       "      <td>red</td>\n",
       "      <td>3</td>\n",
       "      <td>9.875</td>\n",
       "    </tr>\n",
       "    <tr>\n",
       "      <th>1</th>\n",
       "      <td>red</td>\n",
       "      <td>4</td>\n",
       "      <td>8.400</td>\n",
       "    </tr>\n",
       "    <tr>\n",
       "      <th>2</th>\n",
       "      <td>red</td>\n",
       "      <td>5</td>\n",
       "      <td>8.900</td>\n",
       "    </tr>\n",
       "    <tr>\n",
       "      <th>3</th>\n",
       "      <td>red</td>\n",
       "      <td>6</td>\n",
       "      <td>9.400</td>\n",
       "    </tr>\n",
       "    <tr>\n",
       "      <th>4</th>\n",
       "      <td>red</td>\n",
       "      <td>7</td>\n",
       "      <td>10.100</td>\n",
       "    </tr>\n",
       "    <tr>\n",
       "      <th>5</th>\n",
       "      <td>red</td>\n",
       "      <td>8</td>\n",
       "      <td>10.225</td>\n",
       "    </tr>\n",
       "    <tr>\n",
       "      <th>6</th>\n",
       "      <td>white</td>\n",
       "      <td>3</td>\n",
       "      <td>8.525</td>\n",
       "    </tr>\n",
       "    <tr>\n",
       "      <th>7</th>\n",
       "      <td>white</td>\n",
       "      <td>4</td>\n",
       "      <td>7.600</td>\n",
       "    </tr>\n",
       "    <tr>\n",
       "      <th>8</th>\n",
       "      <td>white</td>\n",
       "      <td>5</td>\n",
       "      <td>7.400</td>\n",
       "    </tr>\n",
       "    <tr>\n",
       "      <th>9</th>\n",
       "      <td>white</td>\n",
       "      <td>6</td>\n",
       "      <td>7.300</td>\n",
       "    </tr>\n",
       "    <tr>\n",
       "      <th>10</th>\n",
       "      <td>white</td>\n",
       "      <td>7</td>\n",
       "      <td>7.200</td>\n",
       "    </tr>\n",
       "    <tr>\n",
       "      <th>11</th>\n",
       "      <td>white</td>\n",
       "      <td>8</td>\n",
       "      <td>7.300</td>\n",
       "    </tr>\n",
       "    <tr>\n",
       "      <th>12</th>\n",
       "      <td>white</td>\n",
       "      <td>9</td>\n",
       "      <td>7.400</td>\n",
       "    </tr>\n",
       "  </tbody>\n",
       "</table>\n",
       "</div>"
      ],
      "text/plain": [
       "     type  quality  fixed 3\n",
       "0     red        3    9.875\n",
       "1     red        4    8.400\n",
       "2     red        5    8.900\n",
       "3     red        6    9.400\n",
       "4     red        7   10.100\n",
       "5     red        8   10.225\n",
       "6   white        3    8.525\n",
       "7   white        4    7.600\n",
       "8   white        5    7.400\n",
       "9   white        6    7.300\n",
       "10  white        7    7.200\n",
       "11  white        8    7.300\n",
       "12  white        9    7.400"
      ]
     },
     "execution_count": 89,
     "metadata": {},
     "output_type": "execute_result"
    }
   ],
   "source": [
    "dfq3 = wine.loc[:,[\"type\", \"quality\", \"fixed acidity\"]].groupby([\"type\", \"quality\"], as_index = False).quantile(0.75)\n",
    "dfq3.columns = [\"type\", \"quality\", \"fixed 3\"]\n",
    "dfq3"
   ]
  },
  {
   "cell_type": "code",
   "execution_count": 90,
   "id": "d8941dcf-b8df-4731-9c59-2e507933c5de",
   "metadata": {},
   "outputs": [
    {
     "data": {
      "text/html": [
       "<div>\n",
       "<style scoped>\n",
       "    .dataframe tbody tr th:only-of-type {\n",
       "        vertical-align: middle;\n",
       "    }\n",
       "\n",
       "    .dataframe tbody tr th {\n",
       "        vertical-align: top;\n",
       "    }\n",
       "\n",
       "    .dataframe thead th {\n",
       "        text-align: right;\n",
       "    }\n",
       "</style>\n",
       "<table border=\"1\" class=\"dataframe\">\n",
       "  <thead>\n",
       "    <tr style=\"text-align: right;\">\n",
       "      <th></th>\n",
       "      <th>type</th>\n",
       "      <th>quality</th>\n",
       "      <th>fixed 2</th>\n",
       "    </tr>\n",
       "  </thead>\n",
       "  <tbody>\n",
       "    <tr>\n",
       "      <th>0</th>\n",
       "      <td>red</td>\n",
       "      <td>3</td>\n",
       "      <td>7.50</td>\n",
       "    </tr>\n",
       "    <tr>\n",
       "      <th>1</th>\n",
       "      <td>red</td>\n",
       "      <td>4</td>\n",
       "      <td>7.50</td>\n",
       "    </tr>\n",
       "    <tr>\n",
       "      <th>2</th>\n",
       "      <td>red</td>\n",
       "      <td>5</td>\n",
       "      <td>7.80</td>\n",
       "    </tr>\n",
       "    <tr>\n",
       "      <th>3</th>\n",
       "      <td>red</td>\n",
       "      <td>6</td>\n",
       "      <td>7.90</td>\n",
       "    </tr>\n",
       "    <tr>\n",
       "      <th>4</th>\n",
       "      <td>red</td>\n",
       "      <td>7</td>\n",
       "      <td>8.80</td>\n",
       "    </tr>\n",
       "    <tr>\n",
       "      <th>5</th>\n",
       "      <td>red</td>\n",
       "      <td>8</td>\n",
       "      <td>8.25</td>\n",
       "    </tr>\n",
       "    <tr>\n",
       "      <th>6</th>\n",
       "      <td>white</td>\n",
       "      <td>3</td>\n",
       "      <td>7.30</td>\n",
       "    </tr>\n",
       "    <tr>\n",
       "      <th>7</th>\n",
       "      <td>white</td>\n",
       "      <td>4</td>\n",
       "      <td>6.90</td>\n",
       "    </tr>\n",
       "    <tr>\n",
       "      <th>8</th>\n",
       "      <td>white</td>\n",
       "      <td>5</td>\n",
       "      <td>6.80</td>\n",
       "    </tr>\n",
       "    <tr>\n",
       "      <th>9</th>\n",
       "      <td>white</td>\n",
       "      <td>6</td>\n",
       "      <td>6.80</td>\n",
       "    </tr>\n",
       "    <tr>\n",
       "      <th>10</th>\n",
       "      <td>white</td>\n",
       "      <td>7</td>\n",
       "      <td>6.70</td>\n",
       "    </tr>\n",
       "    <tr>\n",
       "      <th>11</th>\n",
       "      <td>white</td>\n",
       "      <td>8</td>\n",
       "      <td>6.80</td>\n",
       "    </tr>\n",
       "    <tr>\n",
       "      <th>12</th>\n",
       "      <td>white</td>\n",
       "      <td>9</td>\n",
       "      <td>7.10</td>\n",
       "    </tr>\n",
       "  </tbody>\n",
       "</table>\n",
       "</div>"
      ],
      "text/plain": [
       "     type  quality  fixed 2\n",
       "0     red        3     7.50\n",
       "1     red        4     7.50\n",
       "2     red        5     7.80\n",
       "3     red        6     7.90\n",
       "4     red        7     8.80\n",
       "5     red        8     8.25\n",
       "6   white        3     7.30\n",
       "7   white        4     6.90\n",
       "8   white        5     6.80\n",
       "9   white        6     6.80\n",
       "10  white        7     6.70\n",
       "11  white        8     6.80\n",
       "12  white        9     7.10"
      ]
     },
     "execution_count": 90,
     "metadata": {},
     "output_type": "execute_result"
    }
   ],
   "source": [
    "dfq2 = wine.loc[:,[\"type\", \"quality\", \"fixed acidity\"]].groupby([\"type\", \"quality\"], as_index = False).quantile(0.50)\n",
    "dfq2.columns = [\"type\", \"quality\", \"fixed 2\"]\n",
    "dfq2"
   ]
  },
  {
   "cell_type": "code",
   "execution_count": 91,
   "id": "2f5067d9-6110-49bf-bfb6-e2cfca4840dc",
   "metadata": {},
   "outputs": [
    {
     "data": {
      "text/html": [
       "<div>\n",
       "<style scoped>\n",
       "    .dataframe tbody tr th:only-of-type {\n",
       "        vertical-align: middle;\n",
       "    }\n",
       "\n",
       "    .dataframe tbody tr th {\n",
       "        vertical-align: top;\n",
       "    }\n",
       "\n",
       "    .dataframe thead th {\n",
       "        text-align: right;\n",
       "    }\n",
       "</style>\n",
       "<table border=\"1\" class=\"dataframe\">\n",
       "  <thead>\n",
       "    <tr style=\"text-align: right;\">\n",
       "      <th></th>\n",
       "      <th>type</th>\n",
       "      <th>quality</th>\n",
       "      <th>fixed 1</th>\n",
       "      <th>fixed 3</th>\n",
       "      <th>fixed 2</th>\n",
       "      <th>IQR</th>\n",
       "      <th>Upper</th>\n",
       "      <th>Lower</th>\n",
       "    </tr>\n",
       "  </thead>\n",
       "  <tbody>\n",
       "    <tr>\n",
       "      <th>0</th>\n",
       "      <td>red</td>\n",
       "      <td>3</td>\n",
       "      <td>7.150</td>\n",
       "      <td>9.875</td>\n",
       "      <td>7.50</td>\n",
       "      <td>2.725</td>\n",
       "      <td>13.9625</td>\n",
       "      <td>3.0625</td>\n",
       "    </tr>\n",
       "    <tr>\n",
       "      <th>1</th>\n",
       "      <td>red</td>\n",
       "      <td>4</td>\n",
       "      <td>6.800</td>\n",
       "      <td>8.400</td>\n",
       "      <td>7.50</td>\n",
       "      <td>1.600</td>\n",
       "      <td>10.8000</td>\n",
       "      <td>4.4000</td>\n",
       "    </tr>\n",
       "    <tr>\n",
       "      <th>2</th>\n",
       "      <td>red</td>\n",
       "      <td>5</td>\n",
       "      <td>7.100</td>\n",
       "      <td>8.900</td>\n",
       "      <td>7.80</td>\n",
       "      <td>1.800</td>\n",
       "      <td>11.6000</td>\n",
       "      <td>4.4000</td>\n",
       "    </tr>\n",
       "    <tr>\n",
       "      <th>3</th>\n",
       "      <td>red</td>\n",
       "      <td>6</td>\n",
       "      <td>7.000</td>\n",
       "      <td>9.400</td>\n",
       "      <td>7.90</td>\n",
       "      <td>2.400</td>\n",
       "      <td>13.0000</td>\n",
       "      <td>3.4000</td>\n",
       "    </tr>\n",
       "    <tr>\n",
       "      <th>4</th>\n",
       "      <td>red</td>\n",
       "      <td>7</td>\n",
       "      <td>7.400</td>\n",
       "      <td>10.100</td>\n",
       "      <td>8.80</td>\n",
       "      <td>2.700</td>\n",
       "      <td>14.1500</td>\n",
       "      <td>3.3500</td>\n",
       "    </tr>\n",
       "    <tr>\n",
       "      <th>5</th>\n",
       "      <td>red</td>\n",
       "      <td>8</td>\n",
       "      <td>7.250</td>\n",
       "      <td>10.225</td>\n",
       "      <td>8.25</td>\n",
       "      <td>2.975</td>\n",
       "      <td>14.6875</td>\n",
       "      <td>2.7875</td>\n",
       "    </tr>\n",
       "    <tr>\n",
       "      <th>6</th>\n",
       "      <td>white</td>\n",
       "      <td>3</td>\n",
       "      <td>6.575</td>\n",
       "      <td>8.525</td>\n",
       "      <td>7.30</td>\n",
       "      <td>1.950</td>\n",
       "      <td>11.4500</td>\n",
       "      <td>3.6500</td>\n",
       "    </tr>\n",
       "    <tr>\n",
       "      <th>7</th>\n",
       "      <td>white</td>\n",
       "      <td>4</td>\n",
       "      <td>6.400</td>\n",
       "      <td>7.600</td>\n",
       "      <td>6.90</td>\n",
       "      <td>1.200</td>\n",
       "      <td>9.4000</td>\n",
       "      <td>4.6000</td>\n",
       "    </tr>\n",
       "    <tr>\n",
       "      <th>8</th>\n",
       "      <td>white</td>\n",
       "      <td>5</td>\n",
       "      <td>6.400</td>\n",
       "      <td>7.400</td>\n",
       "      <td>6.80</td>\n",
       "      <td>1.000</td>\n",
       "      <td>8.9000</td>\n",
       "      <td>4.9000</td>\n",
       "    </tr>\n",
       "    <tr>\n",
       "      <th>9</th>\n",
       "      <td>white</td>\n",
       "      <td>6</td>\n",
       "      <td>6.300</td>\n",
       "      <td>7.300</td>\n",
       "      <td>6.80</td>\n",
       "      <td>1.000</td>\n",
       "      <td>8.8000</td>\n",
       "      <td>4.8000</td>\n",
       "    </tr>\n",
       "    <tr>\n",
       "      <th>10</th>\n",
       "      <td>white</td>\n",
       "      <td>7</td>\n",
       "      <td>6.200</td>\n",
       "      <td>7.200</td>\n",
       "      <td>6.70</td>\n",
       "      <td>1.000</td>\n",
       "      <td>8.7000</td>\n",
       "      <td>4.7000</td>\n",
       "    </tr>\n",
       "    <tr>\n",
       "      <th>11</th>\n",
       "      <td>white</td>\n",
       "      <td>8</td>\n",
       "      <td>6.200</td>\n",
       "      <td>7.300</td>\n",
       "      <td>6.80</td>\n",
       "      <td>1.100</td>\n",
       "      <td>8.9500</td>\n",
       "      <td>4.5500</td>\n",
       "    </tr>\n",
       "    <tr>\n",
       "      <th>12</th>\n",
       "      <td>white</td>\n",
       "      <td>9</td>\n",
       "      <td>6.900</td>\n",
       "      <td>7.400</td>\n",
       "      <td>7.10</td>\n",
       "      <td>0.500</td>\n",
       "      <td>8.1500</td>\n",
       "      <td>6.1500</td>\n",
       "    </tr>\n",
       "  </tbody>\n",
       "</table>\n",
       "</div>"
      ],
      "text/plain": [
       "     type  quality  fixed 1  fixed 3  fixed 2    IQR    Upper   Lower\n",
       "0     red        3    7.150    9.875     7.50  2.725  13.9625  3.0625\n",
       "1     red        4    6.800    8.400     7.50  1.600  10.8000  4.4000\n",
       "2     red        5    7.100    8.900     7.80  1.800  11.6000  4.4000\n",
       "3     red        6    7.000    9.400     7.90  2.400  13.0000  3.4000\n",
       "4     red        7    7.400   10.100     8.80  2.700  14.1500  3.3500\n",
       "5     red        8    7.250   10.225     8.25  2.975  14.6875  2.7875\n",
       "6   white        3    6.575    8.525     7.30  1.950  11.4500  3.6500\n",
       "7   white        4    6.400    7.600     6.90  1.200   9.4000  4.6000\n",
       "8   white        5    6.400    7.400     6.80  1.000   8.9000  4.9000\n",
       "9   white        6    6.300    7.300     6.80  1.000   8.8000  4.8000\n",
       "10  white        7    6.200    7.200     6.70  1.000   8.7000  4.7000\n",
       "11  white        8    6.200    7.300     6.80  1.100   8.9500  4.5500\n",
       "12  white        9    6.900    7.400     7.10  0.500   8.1500  6.1500"
      ]
     },
     "execution_count": 91,
     "metadata": {},
     "output_type": "execute_result"
    }
   ],
   "source": [
    "df_iqr = dfq1.merge(dfq3, on = [\"type\", \"quality\"], how = \"inner\").merge(dfq2, on = [\"type\", \"quality\"], how = \"inner\")\n",
    "df_iqr[\"IQR\"] = df_iqr.apply(lambda r: r[\"fixed 3\"] - r[\"fixed 1\"], axis = 1)\n",
    "df_iqr[\"Upper\"] = df_iqr.apply(lambda r: r[\"fixed 3\"] + 1.5*r[\"IQR\"], axis = 1)\n",
    "df_iqr[\"Lower\"] = df_iqr.apply(lambda r: r[\"fixed 1\"] - 1.5*r[\"IQR\"], axis = 1)\n",
    "df_iqr"
   ]
  },
  {
   "cell_type": "code",
   "execution_count": 93,
   "id": "9b4a73d7-1ff7-4a75-b6b6-7d68664eefb7",
   "metadata": {},
   "outputs": [
    {
     "data": {
      "text/plain": [
       "(6497, 19)"
      ]
     },
     "execution_count": 93,
     "metadata": {},
     "output_type": "execute_result"
    }
   ],
   "source": [
    "wine_t = wine.merge(df_iqr, on = [\"type\", \"quality\"], how = \"left\").copy()\n",
    "wine_t.shape"
   ]
  },
  {
   "cell_type": "code",
   "execution_count": 94,
   "id": "cf2f78e6-dd10-4a74-9259-6905784c6587",
   "metadata": {},
   "outputs": [],
   "source": [
    "def getFixed(r): \n",
    "    if((r[\"fixed acidity\"] <= r[\"Lower\"]) or (r[\"fixed acidity\"] >= r[\"Upper\"])):\n",
    "        return r[\"fixed 2\"]\n",
    "    else:\n",
    "        return r[\"fixed acidity\"]"
   ]
  },
  {
   "cell_type": "markdown",
   "id": "a5cbf7eb-141c-4713-8aff-d231ab20999e",
   "metadata": {},
   "source": [
    "Se mostrará el dataset generado por el merge"
   ]
  },
  {
   "cell_type": "code",
   "execution_count": 95,
   "id": "23c48882-eb6c-4e74-836b-322249c472c3",
   "metadata": {},
   "outputs": [
    {
     "data": {
      "text/html": [
       "<div>\n",
       "<style scoped>\n",
       "    .dataframe tbody tr th:only-of-type {\n",
       "        vertical-align: middle;\n",
       "    }\n",
       "\n",
       "    .dataframe tbody tr th {\n",
       "        vertical-align: top;\n",
       "    }\n",
       "\n",
       "    .dataframe thead th {\n",
       "        text-align: right;\n",
       "    }\n",
       "</style>\n",
       "<table border=\"1\" class=\"dataframe\">\n",
       "  <thead>\n",
       "    <tr style=\"text-align: right;\">\n",
       "      <th></th>\n",
       "      <th>type</th>\n",
       "      <th>fixed acidity</th>\n",
       "      <th>volatile acidity</th>\n",
       "      <th>citric acid</th>\n",
       "      <th>residual sugar</th>\n",
       "      <th>chlorides</th>\n",
       "      <th>free sulfur dioxide</th>\n",
       "      <th>total sulfur dioxide</th>\n",
       "      <th>density</th>\n",
       "      <th>pH</th>\n",
       "      <th>sulphates</th>\n",
       "      <th>alcohol</th>\n",
       "      <th>quality</th>\n",
       "      <th>fixed 1</th>\n",
       "      <th>fixed 3</th>\n",
       "      <th>fixed 2</th>\n",
       "      <th>IQR</th>\n",
       "      <th>Upper</th>\n",
       "      <th>Lower</th>\n",
       "      <th>New_Fixed</th>\n",
       "    </tr>\n",
       "  </thead>\n",
       "  <tbody>\n",
       "    <tr>\n",
       "      <th>0</th>\n",
       "      <td>white</td>\n",
       "      <td>7.0</td>\n",
       "      <td>0.270</td>\n",
       "      <td>0.36</td>\n",
       "      <td>20.7</td>\n",
       "      <td>0.045</td>\n",
       "      <td>45.0</td>\n",
       "      <td>170.0</td>\n",
       "      <td>1.00100</td>\n",
       "      <td>3.00</td>\n",
       "      <td>0.45</td>\n",
       "      <td>8.8</td>\n",
       "      <td>6</td>\n",
       "      <td>6.3</td>\n",
       "      <td>7.3</td>\n",
       "      <td>6.8</td>\n",
       "      <td>1.0</td>\n",
       "      <td>8.8</td>\n",
       "      <td>4.8</td>\n",
       "      <td>7.0</td>\n",
       "    </tr>\n",
       "    <tr>\n",
       "      <th>1</th>\n",
       "      <td>white</td>\n",
       "      <td>6.3</td>\n",
       "      <td>0.300</td>\n",
       "      <td>0.34</td>\n",
       "      <td>1.6</td>\n",
       "      <td>0.049</td>\n",
       "      <td>14.0</td>\n",
       "      <td>132.0</td>\n",
       "      <td>0.99400</td>\n",
       "      <td>3.30</td>\n",
       "      <td>0.49</td>\n",
       "      <td>9.5</td>\n",
       "      <td>6</td>\n",
       "      <td>6.3</td>\n",
       "      <td>7.3</td>\n",
       "      <td>6.8</td>\n",
       "      <td>1.0</td>\n",
       "      <td>8.8</td>\n",
       "      <td>4.8</td>\n",
       "      <td>6.3</td>\n",
       "    </tr>\n",
       "    <tr>\n",
       "      <th>2</th>\n",
       "      <td>white</td>\n",
       "      <td>8.1</td>\n",
       "      <td>0.280</td>\n",
       "      <td>0.40</td>\n",
       "      <td>6.9</td>\n",
       "      <td>0.050</td>\n",
       "      <td>30.0</td>\n",
       "      <td>97.0</td>\n",
       "      <td>0.99510</td>\n",
       "      <td>3.26</td>\n",
       "      <td>0.44</td>\n",
       "      <td>10.1</td>\n",
       "      <td>6</td>\n",
       "      <td>6.3</td>\n",
       "      <td>7.3</td>\n",
       "      <td>6.8</td>\n",
       "      <td>1.0</td>\n",
       "      <td>8.8</td>\n",
       "      <td>4.8</td>\n",
       "      <td>8.1</td>\n",
       "    </tr>\n",
       "    <tr>\n",
       "      <th>3</th>\n",
       "      <td>white</td>\n",
       "      <td>7.2</td>\n",
       "      <td>0.230</td>\n",
       "      <td>0.32</td>\n",
       "      <td>8.5</td>\n",
       "      <td>0.058</td>\n",
       "      <td>47.0</td>\n",
       "      <td>186.0</td>\n",
       "      <td>0.99560</td>\n",
       "      <td>3.19</td>\n",
       "      <td>0.40</td>\n",
       "      <td>9.9</td>\n",
       "      <td>6</td>\n",
       "      <td>6.3</td>\n",
       "      <td>7.3</td>\n",
       "      <td>6.8</td>\n",
       "      <td>1.0</td>\n",
       "      <td>8.8</td>\n",
       "      <td>4.8</td>\n",
       "      <td>7.2</td>\n",
       "    </tr>\n",
       "    <tr>\n",
       "      <th>4</th>\n",
       "      <td>white</td>\n",
       "      <td>7.2</td>\n",
       "      <td>0.230</td>\n",
       "      <td>0.32</td>\n",
       "      <td>8.5</td>\n",
       "      <td>0.058</td>\n",
       "      <td>47.0</td>\n",
       "      <td>186.0</td>\n",
       "      <td>0.99560</td>\n",
       "      <td>3.19</td>\n",
       "      <td>0.40</td>\n",
       "      <td>9.9</td>\n",
       "      <td>6</td>\n",
       "      <td>6.3</td>\n",
       "      <td>7.3</td>\n",
       "      <td>6.8</td>\n",
       "      <td>1.0</td>\n",
       "      <td>8.8</td>\n",
       "      <td>4.8</td>\n",
       "      <td>7.2</td>\n",
       "    </tr>\n",
       "    <tr>\n",
       "      <th>...</th>\n",
       "      <td>...</td>\n",
       "      <td>...</td>\n",
       "      <td>...</td>\n",
       "      <td>...</td>\n",
       "      <td>...</td>\n",
       "      <td>...</td>\n",
       "      <td>...</td>\n",
       "      <td>...</td>\n",
       "      <td>...</td>\n",
       "      <td>...</td>\n",
       "      <td>...</td>\n",
       "      <td>...</td>\n",
       "      <td>...</td>\n",
       "      <td>...</td>\n",
       "      <td>...</td>\n",
       "      <td>...</td>\n",
       "      <td>...</td>\n",
       "      <td>...</td>\n",
       "      <td>...</td>\n",
       "      <td>...</td>\n",
       "    </tr>\n",
       "    <tr>\n",
       "      <th>6492</th>\n",
       "      <td>red</td>\n",
       "      <td>6.2</td>\n",
       "      <td>0.600</td>\n",
       "      <td>0.08</td>\n",
       "      <td>2.0</td>\n",
       "      <td>0.090</td>\n",
       "      <td>32.0</td>\n",
       "      <td>44.0</td>\n",
       "      <td>0.99490</td>\n",
       "      <td>3.45</td>\n",
       "      <td>0.58</td>\n",
       "      <td>10.5</td>\n",
       "      <td>5</td>\n",
       "      <td>7.1</td>\n",
       "      <td>8.9</td>\n",
       "      <td>7.8</td>\n",
       "      <td>1.8</td>\n",
       "      <td>11.6</td>\n",
       "      <td>4.4</td>\n",
       "      <td>6.2</td>\n",
       "    </tr>\n",
       "    <tr>\n",
       "      <th>6493</th>\n",
       "      <td>red</td>\n",
       "      <td>5.9</td>\n",
       "      <td>0.550</td>\n",
       "      <td>0.10</td>\n",
       "      <td>2.2</td>\n",
       "      <td>0.062</td>\n",
       "      <td>39.0</td>\n",
       "      <td>51.0</td>\n",
       "      <td>0.99512</td>\n",
       "      <td>3.52</td>\n",
       "      <td>NaN</td>\n",
       "      <td>11.2</td>\n",
       "      <td>6</td>\n",
       "      <td>7.0</td>\n",
       "      <td>9.4</td>\n",
       "      <td>7.9</td>\n",
       "      <td>2.4</td>\n",
       "      <td>13.0</td>\n",
       "      <td>3.4</td>\n",
       "      <td>5.9</td>\n",
       "    </tr>\n",
       "    <tr>\n",
       "      <th>6494</th>\n",
       "      <td>red</td>\n",
       "      <td>6.3</td>\n",
       "      <td>0.510</td>\n",
       "      <td>0.13</td>\n",
       "      <td>2.3</td>\n",
       "      <td>0.076</td>\n",
       "      <td>29.0</td>\n",
       "      <td>40.0</td>\n",
       "      <td>0.99574</td>\n",
       "      <td>3.42</td>\n",
       "      <td>0.75</td>\n",
       "      <td>11.0</td>\n",
       "      <td>6</td>\n",
       "      <td>7.0</td>\n",
       "      <td>9.4</td>\n",
       "      <td>7.9</td>\n",
       "      <td>2.4</td>\n",
       "      <td>13.0</td>\n",
       "      <td>3.4</td>\n",
       "      <td>6.3</td>\n",
       "    </tr>\n",
       "    <tr>\n",
       "      <th>6495</th>\n",
       "      <td>red</td>\n",
       "      <td>5.9</td>\n",
       "      <td>0.645</td>\n",
       "      <td>0.12</td>\n",
       "      <td>2.0</td>\n",
       "      <td>0.075</td>\n",
       "      <td>32.0</td>\n",
       "      <td>44.0</td>\n",
       "      <td>0.99547</td>\n",
       "      <td>3.57</td>\n",
       "      <td>0.71</td>\n",
       "      <td>10.2</td>\n",
       "      <td>5</td>\n",
       "      <td>7.1</td>\n",
       "      <td>8.9</td>\n",
       "      <td>7.8</td>\n",
       "      <td>1.8</td>\n",
       "      <td>11.6</td>\n",
       "      <td>4.4</td>\n",
       "      <td>5.9</td>\n",
       "    </tr>\n",
       "    <tr>\n",
       "      <th>6496</th>\n",
       "      <td>red</td>\n",
       "      <td>6.0</td>\n",
       "      <td>0.310</td>\n",
       "      <td>0.47</td>\n",
       "      <td>3.6</td>\n",
       "      <td>0.067</td>\n",
       "      <td>18.0</td>\n",
       "      <td>42.0</td>\n",
       "      <td>0.99549</td>\n",
       "      <td>3.39</td>\n",
       "      <td>0.66</td>\n",
       "      <td>11.0</td>\n",
       "      <td>6</td>\n",
       "      <td>7.0</td>\n",
       "      <td>9.4</td>\n",
       "      <td>7.9</td>\n",
       "      <td>2.4</td>\n",
       "      <td>13.0</td>\n",
       "      <td>3.4</td>\n",
       "      <td>6.0</td>\n",
       "    </tr>\n",
       "  </tbody>\n",
       "</table>\n",
       "<p>6497 rows × 20 columns</p>\n",
       "</div>"
      ],
      "text/plain": [
       "       type  fixed acidity  volatile acidity  citric acid  residual sugar  \\\n",
       "0     white            7.0             0.270         0.36            20.7   \n",
       "1     white            6.3             0.300         0.34             1.6   \n",
       "2     white            8.1             0.280         0.40             6.9   \n",
       "3     white            7.2             0.230         0.32             8.5   \n",
       "4     white            7.2             0.230         0.32             8.5   \n",
       "...     ...            ...               ...          ...             ...   \n",
       "6492    red            6.2             0.600         0.08             2.0   \n",
       "6493    red            5.9             0.550         0.10             2.2   \n",
       "6494    red            6.3             0.510         0.13             2.3   \n",
       "6495    red            5.9             0.645         0.12             2.0   \n",
       "6496    red            6.0             0.310         0.47             3.6   \n",
       "\n",
       "      chlorides  free sulfur dioxide  total sulfur dioxide  density    pH  \\\n",
       "0         0.045                 45.0                 170.0  1.00100  3.00   \n",
       "1         0.049                 14.0                 132.0  0.99400  3.30   \n",
       "2         0.050                 30.0                  97.0  0.99510  3.26   \n",
       "3         0.058                 47.0                 186.0  0.99560  3.19   \n",
       "4         0.058                 47.0                 186.0  0.99560  3.19   \n",
       "...         ...                  ...                   ...      ...   ...   \n",
       "6492      0.090                 32.0                  44.0  0.99490  3.45   \n",
       "6493      0.062                 39.0                  51.0  0.99512  3.52   \n",
       "6494      0.076                 29.0                  40.0  0.99574  3.42   \n",
       "6495      0.075                 32.0                  44.0  0.99547  3.57   \n",
       "6496      0.067                 18.0                  42.0  0.99549  3.39   \n",
       "\n",
       "      sulphates  alcohol  quality  fixed 1  fixed 3  fixed 2  IQR  Upper  \\\n",
       "0          0.45      8.8        6      6.3      7.3      6.8  1.0    8.8   \n",
       "1          0.49      9.5        6      6.3      7.3      6.8  1.0    8.8   \n",
       "2          0.44     10.1        6      6.3      7.3      6.8  1.0    8.8   \n",
       "3          0.40      9.9        6      6.3      7.3      6.8  1.0    8.8   \n",
       "4          0.40      9.9        6      6.3      7.3      6.8  1.0    8.8   \n",
       "...         ...      ...      ...      ...      ...      ...  ...    ...   \n",
       "6492       0.58     10.5        5      7.1      8.9      7.8  1.8   11.6   \n",
       "6493        NaN     11.2        6      7.0      9.4      7.9  2.4   13.0   \n",
       "6494       0.75     11.0        6      7.0      9.4      7.9  2.4   13.0   \n",
       "6495       0.71     10.2        5      7.1      8.9      7.8  1.8   11.6   \n",
       "6496       0.66     11.0        6      7.0      9.4      7.9  2.4   13.0   \n",
       "\n",
       "      Lower  New_Fixed  \n",
       "0       4.8        7.0  \n",
       "1       4.8        6.3  \n",
       "2       4.8        8.1  \n",
       "3       4.8        7.2  \n",
       "4       4.8        7.2  \n",
       "...     ...        ...  \n",
       "6492    4.4        6.2  \n",
       "6493    3.4        5.9  \n",
       "6494    3.4        6.3  \n",
       "6495    4.4        5.9  \n",
       "6496    3.4        6.0  \n",
       "\n",
       "[6497 rows x 20 columns]"
      ]
     },
     "execution_count": 95,
     "metadata": {},
     "output_type": "execute_result"
    }
   ],
   "source": [
    "wine_t[\"New_Fixed\"] = wine_t.apply(lambda r: getFixed(r), axis = 1)\n",
    "wine_t"
   ]
  },
  {
   "cell_type": "markdown",
   "id": "aad990f6-72c0-4250-92c2-fd338a9adda9",
   "metadata": {},
   "source": [
    "Comparación "
   ]
  },
  {
   "cell_type": "code",
   "execution_count": 110,
   "id": "10d10814-3fa9-4493-8fc3-c3d4b12bd874",
   "metadata": {},
   "outputs": [
    {
     "data": {
      "text/plain": [
       "<AxesSubplot:xlabel='type', ylabel='fixed acidity'>"
      ]
     },
     "execution_count": 110,
     "metadata": {},
     "output_type": "execute_result"
    },
    {
     "data": {
      "image/png": "[encoded data removed]",
      "text/plain": [
       "<Figure size 432x288 with 1 Axes>"
      ]
     },
     "metadata": {
      "needs_background": "light"
     },
     "output_type": "display_data"
    }
   ],
   "source": [
    "# Sin estratificar\n",
    "sns.boxplot(data = wine.loc[ (wine['quality'] == 6), : ], x= 'type', y ='fixed acidity' )"
   ]
  },
  {
   "cell_type": "code",
   "execution_count": 111,
   "id": "f810f866-bac7-49e8-a6a9-41a00353835e",
   "metadata": {},
   "outputs": [
    {
     "data": {
      "text/plain": [
       "<AxesSubplot:xlabel='type', ylabel='New_Fixed'>"
      ]
     },
     "execution_count": 111,
     "metadata": {},
     "output_type": "execute_result"
    },
    {
     "data": {
      "image/png": "[encoded data removed]",
      "text/plain": [
       "<Figure size 432x288 with 1 Axes>"
      ]
     },
     "metadata": {
      "needs_background": "light"
     },
     "output_type": "display_data"
    }
   ],
   "source": [
    "# Estratificado\n",
    "sns.boxplot(data = wine_t.loc[ (wine_t['quality'] == 6), : ], x= 'type', y ='New_Fixed' )"
   ]
  },
  {
   "cell_type": "code",
   "execution_count": null,
   "id": "c27952d4-6513-452e-baed-ca74df92a360",
   "metadata": {},
   "outputs": [],
   "source": []
  },
  {
   "cell_type": "code",
   "execution_count": null,
   "id": "df21fc08-2cb7-4579-abb6-2267fdac5daf",
   "metadata": {},
   "outputs": [],
   "source": []
  },
  {
   "cell_type": "code",
   "execution_count": null,
   "id": "cb66fc98-5e0d-4b64-834f-536be7ac089a",
   "metadata": {},
   "outputs": [],
   "source": []
  },
  {
   "cell_type": "code",
   "execution_count": null,
   "id": "e08e2c60-f778-4816-9bf9-72bb5458dc80",
   "metadata": {},
   "outputs": [],
   "source": []
  }
 ],
 "metadata": {
  "kernelspec": {
   "display_name": "Python 3 (ipykernel)",
   "language": "python",
   "name": "python3"
  },
  "language_info": {
   "codemirror_mode": {
    "name": "ipython",
    "version": 3
   },
   "file_extension": ".py",
   "mimetype": "text/x-python",
   "name": "python",
   "nbconvert_exporter": "python",
   "pygments_lexer": "ipython3",
   "version": "3.9.12"
  }
 },
 "nbformat": 4,
 "nbformat_minor": 5
}
